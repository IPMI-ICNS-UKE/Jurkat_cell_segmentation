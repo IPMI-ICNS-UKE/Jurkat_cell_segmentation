{
 "cells": [
  {
   "cell_type": "code",
   "execution_count": 1,
   "metadata": {},
   "outputs": [
    {
     "name": "stdout",
     "output_type": "stream",
     "text": [
      "/home/fatemeh/Documents/Projects/CaImaging/SciRep_Paper/Codes/Task1/JurkatData/Green/Training/01/\n"
     ]
    }
   ],
   "source": [
    "# set the paths\n",
    "root_dir = '/home/fatemeh/Documents/Projects/CaImaging/SciRep_Paper/Codes/Task1/JurkatData/Green'#green emission\n",
    "# root_dir = '/home/fatemeh/Documents/Projects/CaImaging/SciRep_Paper/Codes/Task1/JurkatData/Red'#red emission\n",
    "base_dir = str(root_dir + '/Training/')\n",
    "sequence_dir = str(base_dir) + '01/'\n",
    "target_dir = str(base_dir) + 'GT_01/'\n",
    "print(sequence_dir)"
   ]
  },
  {
   "cell_type": "code",
   "execution_count": 2,
   "metadata": {},
   "outputs": [],
   "source": [
    "# imports\n",
    "\n",
    "import cv2\n",
    "import os\n",
    "import numpy as np\n",
    "import matplotlib.pyplot as plt\n",
    "from scipy.ndimage import grey_dilation, affine_transform, grey_erosion, binary_fill_holes \n",
    "from skimage import morphology\n",
    "from sklearn.metrics import r2_score\n",
    "from sklearn.model_selection import train_test_split\n",
    "\n",
    "from echoes import ESNRegressor\n",
    "from echoes.plotting import set_mystyle\n",
    "from echoes.reservoir._leaky_numba import harvest_states\n",
    "from numba import njit"
   ]
  },
  {
   "cell_type": "code",
   "execution_count": 75,
   "metadata": {},
   "outputs": [],
   "source": [
    "# functions\n",
    "\n",
    "def sigmoid(x):\n",
    "    return 1 / (1 + np.exp(-x))\n",
    "\n",
    "def Input_Output_Generation(sequence_dirs, target_dirs):\n",
    "    for seq in range(len(sequence_dirs)):\n",
    "        sequence_dir = str(base_dir) + str(sequence_dirs[seq])\n",
    "        target_dir = str(base_dir) + str(target_dirs[seq])\n",
    "        fnames = os.listdir(sequence_dir)\n",
    "        for frame in range(0,len(fnames)):\n",
    "            fileName = str(\"t%03d.tif\" % frame)\n",
    "            mskName = str(\"man_seg%03d.tif\" % frame)\n",
    "            if (seq == frame == 0):\n",
    "                img = np.array(cv2.imread(str(sequence_dir + fileName),0))/255\n",
    "                img = img.astype(np.float32)\n",
    "                img = cv2.resize(img,None,fx=0.5, fy=0.5, interpolation = cv2.INTER_CUBIC)                 \n",
    "                img = cv2.medianBlur(img,5)\n",
    "                img = (img - img.mean()) / (img.std())\n",
    "                img = sigmoid(img)\n",
    "                ColIm = np.reshape(img,(-1,1))\n",
    "                RowIm = np.reshape(np.transpose(img),(-1,1))\n",
    "                ImgVector = np.hstack((ColIm, RowIm))\n",
    "                nRow, nCol = img.shape\n",
    "                \n",
    "                tmp_msk = np.array(cv2.imread(str(target_dir + mskName),0))/255\n",
    "                tmp_msk = cv2.resize(tmp_msk,None,fx=0.5, fy=0.5, interpolation = cv2.INTER_CUBIC)\n",
    "                tmp_msk[tmp_msk>=0.5] = 1\n",
    "                tmp_msk[tmp_msk<0.5] = 0\n",
    "                msk = np.reshape(tmp_msk,(-1,1))\n",
    "                plt.subplot(121) \n",
    "                imgplot = plt.imshow(img, cmap=\"gray\")\n",
    "                plt.xticks([]), plt.yticks([])\n",
    "                plt.subplot(122) \n",
    "                imgplot = plt.imshow(tmp_msk, cmap=\"gray\")\n",
    "                plt.xticks([]), plt.yticks([])\n",
    "                \n",
    "            img = np.array(cv2.imread(str(sequence_dir + fileName),0))/255\n",
    "            img = img.astype(np.float32)\n",
    "            img = cv2.resize(img,None,fx=0.5, fy=0.5, interpolation = cv2.INTER_CUBIC)\n",
    "            img = cv2.medianBlur(img,5)\n",
    "            img = (img - img.mean()) / (img.std())\n",
    "            img = sigmoid(img)\n",
    "\n",
    "            ColIm = np.reshape(img,(-1,1))\n",
    "            RowIm = np.reshape(np.transpose(img),(-1,1))\n",
    "            tmpVector = np.hstack((ColIm, RowIm))\n",
    "            ImgVector = np.vstack((ImgVector,tmpVector))\n",
    "            tmp_msk = np.array(cv2.imread(str(target_dir + mskName),0))/255\n",
    "            tmp_msk = cv2.resize(tmp_msk,None,fx=0.5, fy=0.5, interpolation = cv2.INTER_CUBIC)\n",
    "            tmp_msk[tmp_msk>=0.5] = 1\n",
    "            tmp_msk[tmp_msk<0.5] = 0\n",
    "\n",
    "            tmp_msk_vec = np.reshape(tmp_msk,(-1,1))\n",
    "            msk = np.vstack((msk,tmp_msk_vec))\n",
    "        print ('sequence', sequence_dirs[seq],'completed')\n",
    "    return  ImgVector, msk, nRow, nCol\n",
    "\n",
    "def softmax(x): \n",
    "    e_x = np.exp(x - np.max(x)) \n",
    "    return e_x / e_x.sum(axis=0) \n",
    "\n",
    "\n",
    "\n",
    "def PostProcess(img, strel, er_strel, kernel,thr):\n",
    "    pre_s = np.zeros(img.shape)\n",
    "    pre_s[img>=thr]=1\n",
    "#     dilation = grey_erosion(pre_s.astype(np.int32), structure=er_strel.astype(np.int8))\n",
    "#     dilation = grey_dilation(dilation.astype(np.int32), structure=strel.astype(np.int8))\n",
    "    cleanMask = np.float32(morphology.remove_small_objects(pre_s.astype(np.bool),\n",
    "                                                                 min_size=50, connectivity=8))\n",
    "    cleanMask = binary_fill_holes(cleanMask)\n",
    "    cleanMask = cv2.filter2D(cleanMask.astype(np.float32),-1,kernel)\n",
    "    cleanMask[cleanMask>=0.5] = 1\n",
    "    cleanMask[cleanMask<0.5] = 0\n",
    "    return cleanMask  \n",
    "\n",
    "def mymovmen(X, n):\n",
    "    DataLength = X.shape[0]\n",
    "    Y = np.zeros(X.shape)\n",
    "    for i in range(DataLength):\n",
    "        if i<=(DataLength -n): \n",
    "            Y[i,:,:] = np.sum(X[i:i+n+1,:,:,], axis = 0)/n\n",
    "        else:\n",
    "            Y[i,:,:] = np.sum(X[i:,:,:,], axis = 0)/((DataLength -i))\n",
    "    return Y\n",
    "\n",
    "def frame_reconstruct(y_trgt,y_prdct,nRow,nCol):\n",
    "    ValidLength = int(y_trgt.shape[0]/1)\n",
    "    gt = y_trgt[-ValidLength-1:-1]\n",
    "    pred = y_prdct[-ValidLength-1:-1]\n",
    "    numFrame = int(gt.shape[0]/(nRow*nCol))\n",
    "    start_pixel = np.mod(gt.shape[0], nRow*nCol)\n",
    "    tg_output = np.reshape(gt[-numFrame*nRow*nCol-1:-1],(numFrame,nRow,nCol)).astype(np.float64)\n",
    "    pr_output = np.reshape(pred[-numFrame*nRow*nCol-1:-1],(numFrame,nRow,nCol)).astype(np.float64)\n",
    "    return tg_output, pr_output\n",
    "\n",
    "def prediction_resize(tg, prdct, resize_factor):\n",
    "    [nFrame,nRows,nCols]= tg.shape\n",
    "    tg_resize = np.zeros((nFrame,nRows*resize_factor,nCols*resize_factor))\n",
    "    prdct_resize = np.zeros((nFrame,nRows*resize_factor,nCols*resize_factor))    \n",
    "    for frame in range (nFrame):\n",
    "        tg_resize[frame,:,:] = cv2.resize(tg[frame,:,:],None,fx=resize_factor, \n",
    "                                   fy=resize_factor, interpolation = cv2.INTER_CUBIC)\n",
    "        prdct_resize[frame,:,:] = cv2.resize(prdct[frame,:,:],None,fx=resize_factor, \n",
    "                                   fy=resize_factor, interpolation = cv2.INTER_CUBIC)\n",
    "    prdct = mymovmen(prdct_resize, 5) # Optional (improves temporal consistency)\n",
    "    # optional normalization \n",
    "#     prdct = (prdct - prdct.mean()) / (prdct.std())\n",
    "    prdct = (prdct_resize - prdct_resize.mean()) / (prdct_resize.std())\n",
    "\n",
    "    tg_resize[tg_resize>=0.5]=1\n",
    "    tg_resize[tg_resize<0.5]=0\n",
    "    return tg_resize, prdct_resize\n",
    "\n",
    "def stack_post_process(prdct,strel, er_strel, kernel,thr):\n",
    "    binary_prdct = np.zeros(prdct.shape)\n",
    "    for frame in range(prdct.shape[0]):    \n",
    "        binary_prdct[frame,:,:] = PostProcess(prdct[frame,:,:], strel, er_strel, kernel,thr)\n",
    "    return binary_prdct   "
   ]
  },
  {
   "cell_type": "code",
   "execution_count": 5,
   "metadata": {},
   "outputs": [
    {
     "name": "stdout",
     "output_type": "stream",
     "text": [
      "sequence 01/ completed\n",
      "sequence 02/ completed\n",
      "sequence 03/ completed\n",
      "sequence 04/ completed\n",
      "sequence 05/ completed\n",
      "sequence 06/ completed\n",
      "sequence 07/ completed\n",
      "sequence 08/ completed\n",
      "sequence 09/ completed\n",
      "sequence 10/ completed\n",
      "(2871296, 6)\n"
     ]
    },
    {
     "data": {
      "text/plain": [
       "Text(0.5, 1.0, 'Target vector')"
      ]
     },
     "execution_count": 5,
     "metadata": {},
     "output_type": "execute_result"
    },
    {
     "data": {
      "image/png": "[encoded data removed]",
      "text/plain": [
       "<Figure size 432x288 with 2 Axes>"
      ]
     },
     "metadata": {},
     "output_type": "display_data"
    },
    {
     "data": {
      "image/png": "[encoded data removed]",
      "text/plain": [
       "<Figure size 432x288 with 1 Axes>"
      ]
     },
     "metadata": {
      "needs_background": "light"
     },
     "output_type": "display_data"
    }
   ],
   "source": [
    "# read the training sequences and generate input-output vectors\n",
    "sequence_dirs = ['01/', '02/', '03/', '04/', '05/', '06/','07/', '08/', '09/','10/']\n",
    "target_dirs = ['GT_01/', 'GT_02/', 'GT_03/', 'GT_04/', 'GT_05/', 'GT_06/', 'GT_07/', 'GT_08/',\n",
    "              'GT_09/', 'GT_10/']\n",
    "ImVector, msk, nRow, nCol = Input_Output_Generation(sequence_dirs, target_dirs)\n",
    "AugmentedIm = np.hstack((ImVector,np.hstack((np.roll(ImVector, 1, axis=0), np.roll(ImVector, -1, axis=0)))))\n",
    "\n",
    "# print(AugmentedIm.shape)\n",
    "# gt_vect = msk\n",
    "# plt.figure()\n",
    "# imgplot = plt.plot(gt_vect)\n",
    "# plt.xlim([2000,3000])\n",
    "# plt.xlabel('pixel index')\n",
    "# plt.title('Target vector')"
   ]
  },
  {
   "cell_type": "code",
   "execution_count": 7,
   "metadata": {},
   "outputs": [],
   "source": [
    "# Design the RC system and split the data \n",
    "\n",
    "@njit\n",
    "def mysigmoid(x):\n",
    "    return (1.0/(1.0 + np.exp(-x)))\n",
    "@njit\n",
    "def myrelu(x):\n",
    "    return (np.maximum(x, 0))\n",
    "\n",
    "set_mystyle()  # optional: set aesthetics\n",
    "\n",
    "inputs = AugmentedIm.astype(np.float64)\n",
    "weight = 10\n",
    "outputs = gt_vect.astype(np.float64)\n",
    "X_train = inputs\n",
    "X_test = inputs\n",
    "y_train = weight * outputs \n",
    "y_test = outputs\n",
    "\n",
    "esn = ESNRegressor(\n",
    "    n_reservoir= 100,\n",
    "    spectral_radius=.99,\n",
    "    leak_rate=1.0,\n",
    "    noise = 0.0001,\n",
    "    n_transient=0,\n",
    "    input_scaling = 1.0,\n",
    "    input_shift = 0.0,\n",
    "    sparsity = 0.98,\n",
    "    bias = 0.2,\n",
    "    #activation_out = mysigmoid,\n",
    "   #activation=myrelu,\n",
    " #   n_transient=500*250,\n",
    "    regression_method=\"ridge\",\n",
    "    ridge_alpha = 0.000001,\n",
    "    random_state=42,\n",
    "    ridge_normalize=False,\n",
    "    ridge_fit_intercept = False,\n",
    "    store_states_train=False,\n",
    "    store_states_pred=False,\n",
    ")"
   ]
  },
  {
   "cell_type": "code",
   "execution_count": 8,
   "metadata": {},
   "outputs": [
    {
     "name": "stdout",
     "output_type": "stream",
     "text": [
      "CPU times: user 17.2 s, sys: 994 ms, total: 18.2 s\n",
      "Wall time: 15.4 s\n"
     ]
    },
    {
     "data": {
      "text/plain": [
       "ESNRegressor(W=None, W_fb=None, W_in=None,\n",
       "             activation=CPUDispatcher(<function tanh at 0x7fea666255e0>),\n",
       "             activation_out=<function identity at 0x7fea6677aca0>, bias=0.2,\n",
       "             feedback=False, fit_only_states=False, input_scaling=1.0,\n",
       "             input_shift=0.0, leak_rate=1.0, n_reservoir=100, n_transient=0,\n",
       "             noise=0.0001, random_state=42, regression_method='ridge',\n",
       "             ridge_alpha=1e-06, ridge_fit_intercept=False, ridge_max_iter=None,\n",
       "             ridge_normalize=False, ridge_sample_weight=None,\n",
       "             ridge_solver='auto', ridge_tol=0.001, sparsity=0.98,\n",
       "             spectral_radius=0.99, store_states_pred=False,\n",
       "             store_states_train=False)"
      ]
     },
     "execution_count": 8,
     "metadata": {},
     "output_type": "execute_result"
    }
   ],
   "source": [
    "%%time\n",
    "# train the model\n",
    "esn.fit(X_train, y_train)"
   ]
  },
  {
   "cell_type": "code",
   "execution_count": 10,
   "metadata": {},
   "outputs": [
    {
     "name": "stdout",
     "output_type": "stream",
     "text": [
      "CPU times: user 1min 3s, sys: 792 ms, total: 1min 3s\n",
      "Wall time: 1min 3s\n"
     ]
    }
   ],
   "source": [
    "%%time\n",
    "# predict on the validation set\n",
    "y_pred = esn.predict(X_test)"
   ]
  },
  {
   "cell_type": "code",
   "execution_count": 84,
   "metadata": {},
   "outputs": [],
   "source": [
    "kernel = np.ones((3,3),np.float32)/9\n",
    "strel = np.zeros((3, 3))\n",
    "er_strel = np.zeros((2, 2))\n",
    "thr = 1.0\n",
    "\n",
    "tg_output, pr_output = frame_reconstruct(y_test,y_pred,nRow,nCol)\n",
    "tg_resize, prdct_resize = prediction_resize(tg_output, pr_output, 2)\n",
    "prdct_resize_binary = stack_post_process(prdct_resize,strel, er_strel, kernel,thr)"
   ]
  },
  {
   "cell_type": "code",
   "execution_count": 88,
   "metadata": {},
   "outputs": [
    {
     "name": "stdout",
     "output_type": "stream",
     "text": [
      "1.0\n"
     ]
    },
    {
     "data": {
      "image/png": "[encoded data removed]",
      "text/plain": [
       "<Figure size 432x288 with 1 Axes>"
      ]
     },
     "metadata": {},
     "output_type": "display_data"
    }
   ],
   "source": [
    "i = 10\n",
    "\n",
    "trgt =tg_resize[i,:,:]\n",
    "prdct = prdct_resize_binary[i,:,:]\n",
    "\n",
    "\n",
    "pair_img = np.dstack((trgt,prdct,trgt))\n",
    "imgplot = plt.imshow(pair_img, cmap=\"gray\")\n",
    "plt.xticks([]), plt.yticks([])\n",
    "print(thr)"
   ]
  },
  {
   "cell_type": "code",
   "execution_count": 33,
   "metadata": {},
   "outputs": [],
   "source": [
    "# save the model\n",
    "import pickle\n",
    "with open('trainedESN.pickle', 'wb') as handle:\n",
    "    pickle.dump(esn, handle, protocol=pickle.HIGHEST_PROTOCOL)\n",
    "\n",
    "# with open('trainedESN_500n.pickle', 'rb') as handle:\n",
    "#     b = pickle.load(handle)\n",
    "\n",
    "# print (b)"
   ]
  },
  {
   "cell_type": "code",
   "execution_count": null,
   "metadata": {},
   "outputs": [],
   "source": []
  }
 ],
 "metadata": {
  "kernelspec": {
   "display_name": "Python 3",
   "language": "python",
   "name": "python3"
  },
  "language_info": {
   "codemirror_mode": {
    "name": "ipython",
    "version": 3
   },
   "file_extension": ".py",
   "mimetype": "text/x-python",
   "name": "python",
   "nbconvert_exporter": "python",
   "pygments_lexer": "ipython3",
   "version": "3.8.3"
  }
 },
 "nbformat": 4,
 "nbformat_minor": 4
}
